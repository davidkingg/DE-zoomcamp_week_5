{
 "cells": [
  {
   "cell_type": "markdown",
   "id": "b745ec91",
   "metadata": {},
   "source": [
    "## import library"
   ]
  },
  {
   "cell_type": "code",
   "execution_count": 1,
   "id": "716a59df",
   "metadata": {},
   "outputs": [
    {
     "name": "stdout",
     "output_type": "stream",
     "text": [
      "23/03/09 10:16:21 WARN Utils: Your hostname, david-HP-EliteBook-840-G6 resolves to a loopback address: 127.0.1.1; using 213.255.147.57 instead (on interface wlp0s20f3)\n",
      "23/03/09 10:16:21 WARN Utils: Set SPARK_LOCAL_IP if you need to bind to another address\n"
     ]
    },
    {
     "name": "stderr",
     "output_type": "stream",
     "text": [
      "Setting default log level to \"WARN\".\n",
      "To adjust logging level use sc.setLogLevel(newLevel). For SparkR, use setLogLevel(newLevel).\n"
     ]
    },
    {
     "name": "stdout",
     "output_type": "stream",
     "text": [
      "23/03/09 10:16:22 WARN NativeCodeLoader: Unable to load native-hadoop library for your platform... using builtin-java classes where applicable\n"
     ]
    }
   ],
   "source": [
    "import pyspark\n",
    "from pyspark.sql import SparkSession\n",
    "from pyspark.sql import types\n",
    "from pyspark.sql import functions as F\n",
    "import numpy as np\n",
    "from datetime import datetime\n",
    "spark = SparkSession.builder \\\n",
    "    .master(\"local[*]\") \\\n",
    "    .appName('test') \\\n",
    "    .getOrCreate()\n"
   ]
  },
  {
   "cell_type": "markdown",
   "id": "58fa6b87",
   "metadata": {},
   "source": [
    "## Read data"
   ]
  },
  {
   "cell_type": "code",
   "execution_count": 2,
   "id": "afecbd6b",
   "metadata": {},
   "outputs": [
    {
     "name": "stderr",
     "output_type": "stream",
     "text": [
      "\r",
      "[Stage 0:>                                                          (0 + 1) / 1]\r",
      "\r",
      "                                                                                \r"
     ]
    }
   ],
   "source": [
    "df= spark.read.option(\"header\", \"true\").csv('fhvhv_tripdata_2021-06.csv.gz')"
   ]
  },
  {
   "cell_type": "code",
   "execution_count": 3,
   "id": "fd0d069f",
   "metadata": {},
   "outputs": [
    {
     "data": {
      "text/plain": [
       "StructType([StructField('dispatching_base_num', StringType(), True), StructField('pickup_datetime', StringType(), True), StructField('dropoff_datetime', StringType(), True), StructField('PULocationID', StringType(), True), StructField('DOLocationID', StringType(), True), StructField('SR_Flag', StringType(), True), StructField('Affiliated_base_number', StringType(), True)])"
      ]
     },
     "execution_count": 3,
     "metadata": {},
     "output_type": "execute_result"
    }
   ],
   "source": [
    "df.schema"
   ]
  },
  {
   "cell_type": "markdown",
   "id": "c9088932",
   "metadata": {},
   "source": [
    "## Create schema"
   ]
  },
  {
   "cell_type": "code",
   "execution_count": 8,
   "id": "e1ed894d",
   "metadata": {},
   "outputs": [],
   "source": [
    "schema = types.StructType([types.StructField('dispatching_base_num', types.StringType(), True), \n",
    "                           types.StructField('pickup_datetime', types.TimestampType(), True), \n",
    "                           types.StructField('dropoff_datetime', types.TimestampType(), True), \n",
    "                           types.StructField('PULocationID', types.StringType(), True), \n",
    "                           types.StructField('DOLocationID', types.StringType(), True), \n",
    "                           types.StructField('SR_Flag', types.StringType(), True), \n",
    "                           types.StructField('Affiliated_base_number', types.StringType(), True)])"
   ]
  },
  {
   "cell_type": "markdown",
   "id": "06389727",
   "metadata": {},
   "source": [
    "## Repartition Data to 12"
   ]
  },
  {
   "cell_type": "code",
   "execution_count": 4,
   "id": "40d85843",
   "metadata": {},
   "outputs": [],
   "source": [
    "df=df.repartition(12)"
   ]
  },
  {
   "cell_type": "code",
   "execution_count": 5,
   "id": "9c9c38b7",
   "metadata": {},
   "outputs": [
    {
     "name": "stderr",
     "output_type": "stream",
     "text": [
      "\r",
      "[Stage 1:>                                                          (0 + 1) / 1]\r"
     ]
    },
    {
     "data": {
      "text/plain": [
       "12"
      ]
     },
     "execution_count": 5,
     "metadata": {},
     "output_type": "execute_result"
    }
   ],
   "source": [
    "df.rdd.getNumPartitions()"
   ]
  },
  {
   "cell_type": "code",
   "execution_count": 6,
   "id": "04a9de4f",
   "metadata": {},
   "outputs": [
    {
     "name": "stdout",
     "output_type": "stream",
     "text": [
      "root\n",
      " |-- dispatching_base_num: string (nullable = true)\n",
      " |-- pickup_datetime: string (nullable = true)\n",
      " |-- dropoff_datetime: string (nullable = true)\n",
      " |-- PULocationID: string (nullable = true)\n",
      " |-- DOLocationID: string (nullable = true)\n",
      " |-- SR_Flag: string (nullable = true)\n",
      " |-- Affiliated_base_number: string (nullable = true)\n",
      "\n"
     ]
    }
   ],
   "source": [
    "df.printSchema()"
   ]
  },
  {
   "cell_type": "code",
   "execution_count": 9,
   "id": "b631a14b",
   "metadata": {},
   "outputs": [],
   "source": [
    "df= spark.read.schema(schema).option(\"header\", \"true\").csv('fhvhv_tripdata_2021-06.csv.gz').repartition(12)"
   ]
  },
  {
   "cell_type": "markdown",
   "id": "78af7272",
   "metadata": {},
   "source": [
    "## save to parquet file"
   ]
  },
  {
   "cell_type": "code",
   "execution_count": 11,
   "id": "c97b78cc",
   "metadata": {},
   "outputs": [
    {
     "name": "stderr",
     "output_type": "stream",
     "text": [
      "[Stage 4:>                                                         (0 + 8) / 12]\r"
     ]
    },
    {
     "name": "stdout",
     "output_type": "stream",
     "text": [
      "23/03/09 10:20:51 WARN MemoryManager: Total allocation exceeds 95.00% (1,020,054,720 bytes) of heap memory\n",
      "Scaling row group sizes to 95.00% for 8 writers\n"
     ]
    },
    {
     "name": "stderr",
     "output_type": "stream",
     "text": [
      "                                                                                \r"
     ]
    }
   ],
   "source": [
    "df.write.parquet('homework')"
   ]
  },
  {
   "cell_type": "markdown",
   "id": "42aa7d1a",
   "metadata": {},
   "source": [
    "## Read parquet file"
   ]
  },
  {
   "cell_type": "code",
   "execution_count": 12,
   "id": "9a4b7524",
   "metadata": {},
   "outputs": [],
   "source": [
    "df=spark.read.schema(schema).parquet('homework')"
   ]
  },
  {
   "cell_type": "code",
   "execution_count": 13,
   "id": "768f4278",
   "metadata": {},
   "outputs": [
    {
     "data": {
      "text/plain": [
       "14961892"
      ]
     },
     "execution_count": 13,
     "metadata": {},
     "output_type": "execute_result"
    }
   ],
   "source": [
    "df.count()"
   ]
  },
  {
   "cell_type": "code",
   "execution_count": 14,
   "id": "78be03be",
   "metadata": {},
   "outputs": [
    {
     "data": {
      "text/plain": [
       "[Row(dispatching_base_num='B02888', pickup_datetime=datetime.datetime(2021, 6, 18, 12, 42, 21), dropoff_datetime=datetime.datetime(2021, 6, 18, 13, 36, 18), PULocationID='72', DOLocationID='113', SR_Flag='N', Affiliated_base_number='B02888')]"
      ]
     },
     "execution_count": 14,
     "metadata": {},
     "output_type": "execute_result"
    }
   ],
   "source": [
    "df.take(1)"
   ]
  },
  {
   "cell_type": "markdown",
   "id": "12a2b89f",
   "metadata": {},
   "source": [
    "## trips started on June 15th"
   ]
  },
  {
   "cell_type": "code",
   "execution_count": 15,
   "id": "1b2f36bb",
   "metadata": {},
   "outputs": [
    {
     "name": "stderr",
     "output_type": "stream",
     "text": [
      "                                                                                \r"
     ]
    },
    {
     "data": {
      "text/plain": [
       "452470"
      ]
     },
     "execution_count": 15,
     "metadata": {},
     "output_type": "execute_result"
    }
   ],
   "source": [
    "def fil(row):\n",
    "    return row.pickup_datetime.month==6\n",
    "\n",
    "df.filter((F.month(df.pickup_datetime)==6) & (F.dayofmonth(df.pickup_datetime)==15) ).count()"
   ]
  },
  {
   "cell_type": "markdown",
   "id": "0780b391",
   "metadata": {},
   "source": [
    "## create dataframe with duration column"
   ]
  },
  {
   "cell_type": "code",
   "execution_count": 16,
   "id": "80b85195",
   "metadata": {},
   "outputs": [
    {
     "name": "stderr",
     "output_type": "stream",
     "text": [
      "\r",
      "[Stage 12:>                                                         (0 + 1) / 1]\r"
     ]
    },
    {
     "name": "stdout",
     "output_type": "stream",
     "text": [
      "+--------------------+-------------------+-------------------+------------+------------+-------+----------------------+-----------+\n",
      "|dispatching_base_num|    pickup_datetime|   dropoff_datetime|PULocationID|DOLocationID|SR_Flag|Affiliated_base_number|   duration|\n",
      "+--------------------+-------------------+-------------------+------------+------------+-------+----------------------+-----------+\n",
      "|              B02888|2021-06-18 12:42:21|2021-06-18 13:36:18|          72|         113|      N|                B02888| 0.89916664|\n",
      "|              B02764|2021-06-09 20:24:11|2021-06-09 20:41:41|         117|         265|      N|                B02764| 0.29166666|\n",
      "|              B02883|2021-06-18 00:00:14|2021-06-18 00:06:28|          33|          25|      N|                B02883| 0.10388889|\n",
      "|              B02835|2021-06-15 09:19:10|2021-06-15 09:39:35|          78|         259|      N|                B02835|  0.3402778|\n",
      "|              B02879|2021-06-02 17:17:11|2021-06-02 17:36:30|          41|         116|      N|                B02879| 0.32194445|\n",
      "|              B02872|2021-06-12 18:32:41|2021-06-12 18:39:50|         136|         241|      N|                B02872|0.119166665|\n",
      "|              B02510|2021-06-23 09:50:54|2021-06-23 10:07:15|         129|          92|      N|                  null|     0.2725|\n",
      "|              B02510|2021-06-02 16:55:38|2021-06-02 18:00:31|         205|         246|      N|                  null|  1.0813888|\n",
      "|              B02875|2021-06-06 21:16:42|2021-06-06 21:21:57|         220|         220|      N|                B02875|     0.0875|\n",
      "|              B02510|2021-06-15 16:39:04|2021-06-15 17:22:49|         170|         225|      N|                  null|  0.7291667|\n",
      "|              B02764|2021-06-03 11:47:05|2021-06-03 11:57:21|          18|          18|      N|                B02764|  0.1711111|\n",
      "|              B02617|2021-06-09 10:25:31|2021-06-09 10:38:12|          62|         177|      N|                B02617| 0.21138889|\n",
      "|              B02510|2021-06-07 14:22:50|2021-06-07 15:34:51|          48|         132|      N|                  null|  1.2002778|\n",
      "|              B02872|2021-06-22 21:46:06|2021-06-22 22:04:54|         107|          48|      N|                B02872| 0.31333333|\n",
      "|              B02510|2021-06-28 13:57:29|2021-06-28 14:12:58|          95|          95|      N|                  null| 0.25805557|\n",
      "|              B02395|2021-06-10 18:46:11|2021-06-10 19:12:13|         236|         246|      N|                B02395| 0.43388888|\n",
      "|              B02765|2021-06-30 15:19:27|2021-06-30 15:34:01|         215|         130|      N|                B02765| 0.24277778|\n",
      "|              B02883|2021-06-11 19:09:53|2021-06-11 19:18:43|         155|         165|      N|                B02883| 0.14722222|\n",
      "|              B02510|2021-06-02 22:06:13|2021-06-02 22:25:38|         255|          14|      N|                  null|  0.3236111|\n",
      "|              B02875|2021-06-29 07:58:59|2021-06-29 08:30:30|         133|         140|      N|                B02875|  0.5252778|\n",
      "+--------------------+-------------------+-------------------+------------+------------+-------+----------------------+-----------+\n",
      "only showing top 20 rows\n",
      "\n"
     ]
    },
    {
     "name": "stderr",
     "output_type": "stream",
     "text": [
      "\r",
      "                                                                                \r"
     ]
    }
   ],
   "source": [
    "def crazy_stuff(a,b):\n",
    "    c=b-a\n",
    "    return c.total_seconds()/3600\n",
    "\n",
    "crazy_stuff_udf = F.udf(crazy_stuff, returnType=types.FloatType())\n",
    "df2=df.withColumn('duration', crazy_stuff_udf(df.pickup_datetime,df.dropoff_datetime))\n",
    "\n",
    "df2.show()"
   ]
  },
  {
   "cell_type": "code",
   "execution_count": 17,
   "id": "55a328da",
   "metadata": {},
   "outputs": [
    {
     "data": {
      "text/plain": [
       "[Row(dispatching_base_num='B02888', pickup_datetime=datetime.datetime(2021, 6, 18, 12, 42, 21), dropoff_datetime=datetime.datetime(2021, 6, 18, 13, 36, 18), PULocationID='72', DOLocationID='113', SR_Flag='N', Affiliated_base_number='B02888', duration=0.8991666436195374)]"
      ]
     },
     "execution_count": 17,
     "metadata": {},
     "output_type": "execute_result"
    }
   ],
   "source": [
    "df2.take(1)"
   ]
  },
  {
   "cell_type": "markdown",
   "id": "4d1a08bc",
   "metadata": {},
   "source": [
    "## longest trip in the dataset"
   ]
  },
  {
   "cell_type": "code",
   "execution_count": 18,
   "id": "2bada75c",
   "metadata": {},
   "outputs": [
    {
     "name": "stderr",
     "output_type": "stream",
     "text": [
      "                                                                                \r"
     ]
    },
    {
     "data": {
      "text/plain": [
       "Row(max(duration)=66.87889099121094)"
      ]
     },
     "execution_count": 18,
     "metadata": {},
     "output_type": "execute_result"
    }
   ],
   "source": [
    "df2.agg({\"duration\": \"max\"}).collect()[0]"
   ]
  },
  {
   "cell_type": "code",
   "execution_count": null,
   "id": "115d9d8f",
   "metadata": {},
   "outputs": [],
   "source": []
  },
  {
   "cell_type": "markdown",
   "id": "836b3b8b",
   "metadata": {},
   "source": [
    "## Merge with location data"
   ]
  },
  {
   "cell_type": "code",
   "execution_count": 20,
   "id": "91c51dbf",
   "metadata": {},
   "outputs": [],
   "source": [
    "location = spark.read.option(\"header\", \"true\").csv('taxi_zone_lookup.csv')"
   ]
  },
  {
   "cell_type": "code",
   "execution_count": 21,
   "id": "f1edc7c8",
   "metadata": {},
   "outputs": [
    {
     "data": {
      "text/plain": [
       "[Row(LocationID='1', Borough='EWR', Zone='Newark Airport', service_zone='EWR'),\n",
       " Row(LocationID='2', Borough='Queens', Zone='Jamaica Bay', service_zone='Boro Zone'),\n",
       " Row(LocationID='3', Borough='Bronx', Zone='Allerton/Pelham Gardens', service_zone='Boro Zone'),\n",
       " Row(LocationID='4', Borough='Manhattan', Zone='Alphabet City', service_zone='Yellow Zone'),\n",
       " Row(LocationID='5', Borough='Staten Island', Zone='Arden Heights', service_zone='Boro Zone')]"
      ]
     },
     "execution_count": 21,
     "metadata": {},
     "output_type": "execute_result"
    }
   ],
   "source": [
    "location.head(5)"
   ]
  },
  {
   "cell_type": "code",
   "execution_count": 30,
   "id": "6e54748b",
   "metadata": {},
   "outputs": [],
   "source": [
    "df=df.withColumnRenamed('PULocationID','LocationID')"
   ]
  },
  {
   "cell_type": "code",
   "execution_count": 35,
   "id": "91dfa711",
   "metadata": {},
   "outputs": [
    {
     "data": {
      "text/plain": [
       "[Row(LocationID='72', dispatching_base_num='B02888', pickup_datetime=datetime.datetime(2021, 6, 18, 12, 42, 21), dropoff_datetime=datetime.datetime(2021, 6, 18, 13, 36, 18), DOLocationID='113', SR_Flag='N', Affiliated_base_number='B02888', Borough='Brooklyn', Zone='East Flatbush/Remsen Village', service_zone='Boro Zone')]"
      ]
     },
     "execution_count": 35,
     "metadata": {},
     "output_type": "execute_result"
    }
   ],
   "source": [
    "df3 = df.join(location, on=['LocationID'], how='left')\n",
    "df3.take(1)"
   ]
  },
  {
   "cell_type": "code",
   "execution_count": 44,
   "id": "1fbcaef6",
   "metadata": {},
   "outputs": [
    {
     "name": "stderr",
     "output_type": "stream",
     "text": [
      "                                                                                \r"
     ]
    },
    {
     "data": {
      "text/plain": [
       "Row(max(count)=231279)"
      ]
     },
     "execution_count": 44,
     "metadata": {},
     "output_type": "execute_result"
    }
   ],
   "source": [
    "df3.groupby('Zone').count().agg({'count':'max'}).collect()[0]"
   ]
  },
  {
   "cell_type": "code",
   "execution_count": 51,
   "id": "6f6f9f91",
   "metadata": {},
   "outputs": [
    {
     "name": "stderr",
     "output_type": "stream",
     "text": [
      "\r",
      "[Stage 69:====>                                                    (1 + 8) / 12]\r",
      "\r",
      "[Stage 69:======================================>                  (8 + 4) / 12]\r"
     ]
    },
    {
     "name": "stdout",
     "output_type": "stream",
     "text": [
      "+----------+\n",
      "|max(count)|\n",
      "+----------+\n",
      "|    231279|\n",
      "+----------+\n",
      "\n"
     ]
    },
    {
     "name": "stderr",
     "output_type": "stream",
     "text": [
      "\r",
      "                                                                                \r"
     ]
    }
   ],
   "source": [
    "df3.groupby('Zone').count().agg({'count':'max'}).show()"
   ]
  },
  {
   "cell_type": "markdown",
   "id": "f3bab541",
   "metadata": {},
   "source": [
    "## Getting location with max count"
   ]
  },
  {
   "cell_type": "code",
   "execution_count": 57,
   "id": "122ac948",
   "metadata": {},
   "outputs": [
    {
     "name": "stderr",
     "output_type": "stream",
     "text": [
      "[Stage 80:======================================>                  (8 + 4) / 12]\r"
     ]
    },
    {
     "name": "stdout",
     "output_type": "stream",
     "text": [
      "+-------------------+------+\n",
      "|               Zone| count|\n",
      "+-------------------+------+\n",
      "|Crown Heights North|231279|\n",
      "+-------------------+------+\n",
      "\n"
     ]
    },
    {
     "name": "stderr",
     "output_type": "stream",
     "text": [
      "\r",
      "                                                                                \r"
     ]
    }
   ],
   "source": [
    "df3.groupby('Zone').count().filter(F.col('count')==231279).show()"
   ]
  },
  {
   "cell_type": "code",
   "execution_count": null,
   "id": "e26d8413",
   "metadata": {},
   "outputs": [],
   "source": []
  },
  {
   "cell_type": "code",
   "execution_count": null,
   "id": "f5201698",
   "metadata": {},
   "outputs": [],
   "source": []
  },
  {
   "cell_type": "code",
   "execution_count": null,
   "id": "619f0a85",
   "metadata": {},
   "outputs": [],
   "source": []
  },
  {
   "cell_type": "code",
   "execution_count": null,
   "id": "4bfa31d0",
   "metadata": {},
   "outputs": [],
   "source": []
  }
 ],
 "metadata": {
  "kernelspec": {
   "display_name": "Python 3 (ipykernel)",
   "language": "python",
   "name": "python3"
  },
  "language_info": {
   "codemirror_mode": {
    "name": "ipython",
    "version": 3
   },
   "file_extension": ".py",
   "mimetype": "text/x-python",
   "name": "python",
   "nbconvert_exporter": "python",
   "pygments_lexer": "ipython3",
   "version": "3.10.6"
  }
 },
 "nbformat": 4,
 "nbformat_minor": 5
}
